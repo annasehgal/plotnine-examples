{
 "cells": [
  {
   "cell_type": "markdown",
   "metadata": {},
   "source": [
    "# A PyQt5 Application"
   ]
  },
  {
   "cell_type": "code",
   "execution_count": 1,
   "metadata": {
    "execution": {
     "iopub.execute_input": "2021-03-04T12:16:15.917521Z",
     "iopub.status.busy": "2021-03-04T12:16:15.915506Z",
     "iopub.status.idle": "2021-03-04T12:16:20.869946Z",
     "shell.execute_reply": "2021-03-04T12:16:20.868144Z"
    }
   },
   "outputs": [],
   "source": [
    "import sys\n",
    "import random\n",
    "\n",
    "from plotnine import ggplot, geom_point, aes, geom_line, theme\n",
    "import pandas as pd\n",
    "import numpy as np\n",
    "\n",
    "from PyQt5.QtWidgets import QApplication, QPushButton, QDialog, QVBoxLayout\n",
    "\n",
    "import matplotlib.pyplot as plt\n",
    "from matplotlib.backends.backend_qt5agg import FigureCanvasQTAgg as FigureCanvas\n",
    "from matplotlib.backends.backend_qt5agg import NavigationToolbar2QT as NavigationToolbar\n",
    "from matplotlib.figure import Figure"
   ]
  },
  {
   "cell_type": "markdown",
   "metadata": {},
   "source": [
    "This example applicate creates a gui windows with a canvas and a plot button which when pressed draws out a plot from random data."
   ]
  },
  {
   "cell_type": "code",
   "execution_count": 2,
   "metadata": {
    "execution": {
     "iopub.execute_input": "2021-03-04T12:16:20.913319Z",
     "iopub.status.busy": "2021-03-04T12:16:20.911232Z",
     "iopub.status.idle": "2021-03-04T12:16:37.074453Z",
     "shell.execute_reply": "2021-03-04T12:16:37.072007Z"
    }
   },
   "outputs": [
    {
     "data": {
      "text/plain": [
       "0"
      ]
     },
     "execution_count": 1,
     "metadata": {},
     "output_type": "execute_result"
    }
   ],
   "source": [
    "dpi = 72\n",
    "size_inches = (11, 8)  # size in inches (for the plot)\n",
    "size_px = int(size_inches[0] * dpi), int(size_inches[1] * dpi)  # For the canvas\n",
    "\n",
    "\n",
    "class Window(QDialog):\n",
    "    def __init__(self, parent=None):\n",
    "        super(Window, self).__init__(parent)\n",
    "\n",
    "        self.figure = Figure()\n",
    "        self.canvas = FigureCanvas(self.figure)\n",
    "        self.toolbar = NavigationToolbar(self.canvas, self)\n",
    "\n",
    "        self.button = QPushButton(\"Plot\")\n",
    "        self.button.clicked.connect(self.plot)\n",
    "\n",
    "        self.canvas.setMinimumSize(*size_px)\n",
    "\n",
    "        layout = QVBoxLayout()\n",
    "        layout.addWidget(self.toolbar)\n",
    "        layout.addWidget(self.canvas)\n",
    "        layout.addWidget(self.button)\n",
    "        self.setLayout(layout)\n",
    "\n",
    "    def plot(self):\n",
    "        # generate some 'data' to plot\n",
    "        n = 100\n",
    "        x = np.linspace(0, 2 * np.pi, n)\n",
    "        df = pd.DataFrame(\n",
    "            {\n",
    "                \"x\": x,\n",
    "                \"y1\": np.random.rand(n),\n",
    "                \"y2\": np.sin(x),\n",
    "                \"y3\": np.cos(x) * np.sin(x),\n",
    "            }\n",
    "        )\n",
    "\n",
    "        # change the dependent variable and color each time this method is called\n",
    "        y = random.choice([\"y1\", \"y2\", \"y3\"])\n",
    "        color = random.choice([\"blue\", \"red\", \"green\"])\n",
    "\n",
    "        # specify the plot and get the figure object\n",
    "        ff = (\n",
    "            ggplot(df, aes(\"x\", y))\n",
    "            + geom_point(color=color)\n",
    "            + geom_line()\n",
    "            + theme(figure_size=size_inches, dpi=dpi)\n",
    "        )\n",
    "        fig = ff.draw()\n",
    "\n",
    "        # update to the new figure\n",
    "        self.canvas.figure = fig\n",
    "\n",
    "        # refresh canvas\n",
    "        self.canvas.draw()\n",
    "\n",
    "        # close the figure so that we don't create too many figure instances\n",
    "        plt.close(fig)\n",
    "\n",
    "\n",
    "# To prevent random crashes when rerunning the code,\n",
    "# first check if there is instance of the app before creating another.\n",
    "app = QApplication.instance()\n",
    "if app is None:\n",
    "    app = QApplication(sys.argv)\n",
    "\n",
    "main = Window()\n",
    "main.show()\n",
    "app.exec_()"
   ]
  },
  {
   "cell_type": "markdown",
   "metadata": {},
   "source": [
    "## The Application\n",
    "\n",
    "![PyQT5 Application](images/pyqt5-application.png)"
   ]
  },
  {
   "cell_type": "markdown",
   "metadata": {},
   "source": [
    "**Credit:** Brad Reisfeld ([@breisfeld](https://github.com/breisfeld)) for putting this workflow together."
   ]
  }
 ],
 "metadata": {
  "kernelspec": {
   "display_name": "Python 3",
   "language": "python",
   "name": "python3"
  },
  "language_info": {
   "codemirror_mode": {
    "name": "ipython",
    "version": 3
   },
   "file_extension": ".py",
   "mimetype": "text/x-python",
   "name": "python",
   "nbconvert_exporter": "python",
   "pygments_lexer": "ipython3",
   "version": "3.8.3"
  }
 },
 "nbformat": 4,
 "nbformat_minor": 4
}
